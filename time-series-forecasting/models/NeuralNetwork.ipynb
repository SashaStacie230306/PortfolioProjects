version https://git-lfs.github.com/spec/v1
oid sha256:aa5d43ded27c19c56dde4ef2225df95e51987aa5721afd0f2ef396c46201fa68
size 548381
