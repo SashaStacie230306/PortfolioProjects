version https://git-lfs.github.com/spec/v1
oid sha256:b753c04f62e4b263b2ce2f063add96a7f59f02d957e13152c4d9fd8fd1b97b12
size 8540
