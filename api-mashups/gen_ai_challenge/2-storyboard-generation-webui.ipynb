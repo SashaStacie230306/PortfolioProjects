version https://git-lfs.github.com/spec/v1
oid sha256:669621a00958da1ae9fe14ff2e48fd037e0526d2287f22f9ca0bc89e937859e2
size 16570953
