version https://git-lfs.github.com/spec/v1
oid sha256:766da67c5376ccdcbcf71cd3837f0dc003c8aef99964c6b485ed69e89de9eefd
size 629494
